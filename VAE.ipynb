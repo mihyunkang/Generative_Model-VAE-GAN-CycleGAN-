{
 "cells": [
  {
   "cell_type": "code",
   "execution_count": 86,
   "metadata": {},
   "outputs": [],
   "source": [
    "import torch\n",
    "import torchvision\n",
    "import numpy as np\n",
    "\n",
    "import torch.nn as nn\n",
    "import torch.nn.functional as F\n",
    "import torch.optim as optim\n",
    "\n",
    "import torchvision.transforms as transforms\n",
    "from torchvision.utils import save_image as save_image\n",
    "import matplotlib.pyplot as plt\n",
    "import os\n"
   ]
  },
  {
   "cell_type": "code",
   "execution_count": 32,
   "metadata": {},
   "outputs": [],
   "source": [
    "transform = transforms.Compose([transforms.ToTensor(),\n",
    "                               transforms.Normalize((0.5,), (0.5,))]) #1 channel transform\n",
    "\n",
    "trainset = torchvision.datasets.MNIST(root='./data/MNIST', train=True, #MNIST Dataset\n",
    "                                    download=True, transform=transform) \n",
    "train_loader = torch.utils.data.DataLoader(trainset, batch_size=4,\n",
    "                                         shuffle=True, num_workers=2)\n",
    "\n",
    "testset = torchvision.datasets.MNIST(root='./data/MNIST', train=False,\n",
    "                                    download=True, transform=transform)\n",
    "test_loader = torch.utils.data.DataLoader(testset, batch_size=4,\n",
    "                                        shuffle=False, num_workers=2)\n"
   ]
  },
  {
   "cell_type": "code",
   "execution_count": 63,
   "metadata": {},
   "outputs": [],
   "source": [
    "class VAE(nn.Module):\n",
    "    def __init__(self):\n",
    "        super(VAE, self).__init__()\n",
    "        self.fc1 = nn.Linear(784, 400)\n",
    "        self.fc21 = nn.Linear(400, 20)\n",
    "        self.fc22 = nn.Linear(400, 20)\n",
    "        self.fc3 = nn.Linear(20, 400)\n",
    "        self.fc4 = nn.Linear(400, 784)\n",
    "    \n",
    "    def encode(self, x):\n",
    "        h1 = F.relu(self.fc1(x))\n",
    "        return self.fc21(h1), self.fc22(h1)\n",
    "    \n",
    "    def reparameterize(self, mu, logvar):\n",
    "        if self.training:\n",
    "            std = torch.exp(0.5*logvar)\n",
    "            eps = torch.randn_like(std)\n",
    "            return eps.mul(std).add_(mu)\n",
    "        else:\n",
    "            return mu\n",
    "    \n",
    "    def decode(self, z):\n",
    "        h3 = F.relu(self.fc3(z))\n",
    "        return F.sigmoid(self.fc4(h3))\n",
    "    \n",
    "    def forward(self, x):\n",
    "        mu, logvar = self.encode(x.view(-1, 784))\n",
    "        z = self.reparameterize(mu, logvar)\n",
    "        return self.decode(z), mu, logvar"
   ]
  },
  {
   "cell_type": "code",
   "execution_count": 64,
   "metadata": {},
   "outputs": [],
   "source": [
    "def loss_function(recon_x, x, mu, logvar):\n",
    "    BCE = F.binary_cross_entropy(recon_x, x.view(-1, 784), size_average=False)\n",
    "    KLD = -0.5*torch.sum(1 + logvar - mu.pow(2) - logvar.exp())\n",
    "    return BCE + KLD"
   ]
  },
  {
   "cell_type": "code",
   "execution_count": 87,
   "metadata": {},
   "outputs": [],
   "source": [
    "def create_dir(directory): #for result dir \n",
    "    if not os.path.exists(directory):\n",
    "        os.makedirs(directory)"
   ]
  },
  {
   "cell_type": "code",
   "execution_count": 88,
   "metadata": {},
   "outputs": [],
   "source": [
    "model = VAE()\n",
    "device = torch.device(\"cpu\")\n",
    "optimizer = optim.Adam(model.parameters(), lr=0.0001)\n",
    "\n",
    "\n",
    "def train(epoch):\n",
    "    model.train()\n",
    "    train_loss = 0\n",
    "    for batch_idx, (data, _) in enumerate(train_loader):\n",
    "        data = data.to(device)\n",
    "        optimizer.zero_grad()\n",
    "        recon_batch, mu, logvar = model(data)\n",
    "        loss = loss_function(recon_batch, data, mu, logvar)\n",
    "        loss.backward()\n",
    "        train_loss += loss.item()\n",
    "        optimizer.step()\n",
    "        if batch_idx % 10000 == 0:\n",
    "            print('Train Epoch: {} [{}/{} ({:.0f}%)]\\tLoss: {:.6f}'.format(epoch, batch_idx * len(data), len(train_loader.dataset), 100. * batch_idx / len(train_loader), loss.item() / len(data)))\n",
    "            print('====> Epoch: {} Average loss: {:.4f}'.format(epoch, train_loss / len(train_loader.dataset)))"
   ]
  },
  {
   "cell_type": "code",
   "execution_count": 89,
   "metadata": {},
   "outputs": [],
   "source": [
    "create_dir('./results_VAE')\n",
    "\n",
    "def test(epoch):\n",
    "    model.eval()\n",
    "    test_loss = 0\n",
    "    with torch.no_grad():\n",
    "        for i, (data, _) in enumerate(test_loader):\n",
    "            data = data.to(device)\n",
    "            recon_batch, mu, logvar = model(data)\n",
    "            test_loss += loss_function(recon_batch, data, mu, logvar).item()\n",
    "            if i == 0:\n",
    "                n = min(data.size(0),8)\n",
    "                comparison = torch.cat([data[:n], recon_batch.view(4, 1, 28, 28)[:n]])\n",
    "                save_image(comparison.cpu(), './results_VAE/reconstruction_' + str(epoch) + '.png', nrow=n)\n",
    "                \n",
    "    test_loss /= len(test_loader.dataset)\n",
    "    print('====> Test set loss: {:.4f}'.format(test_loss))\n",
    "            "
   ]
  },
  {
   "cell_type": "code",
   "execution_count": 91,
   "metadata": {},
   "outputs": [
    {
     "name": "stdout",
     "output_type": "stream",
     "text": [
      "Train Epoch: 1 [0/60000 (0%)]\tLoss: -20857.392578\n",
      "====> Epoch: 1 Average loss: -1.3905\n",
      "Train Epoch: 1 [40000/60000 (67%)]\tLoss: -21343.193359\n",
      "====> Epoch: 1 Average loss: -13653.7506\n",
      "====> Test set loss: -20505.4692\n",
      "Train Epoch: 2 [0/60000 (0%)]\tLoss: -19351.296875\n",
      "====> Epoch: 2 Average loss: -1.2901\n",
      "Train Epoch: 2 [40000/60000 (67%)]\tLoss: -21428.777344\n",
      "====> Epoch: 2 Average loss: -13600.7105\n",
      "====> Test set loss: -20510.9699\n",
      "Train Epoch: 3 [0/60000 (0%)]\tLoss: -20506.050781\n",
      "====> Epoch: 3 Average loss: -1.3671\n",
      "Train Epoch: 3 [40000/60000 (67%)]\tLoss: -19416.246094\n",
      "====> Epoch: 3 Average loss: -13567.5318\n",
      "====> Test set loss: -20350.9978\n",
      "Train Epoch: 4 [0/60000 (0%)]\tLoss: -20356.216797\n",
      "====> Epoch: 4 Average loss: -1.3571\n",
      "Train Epoch: 4 [40000/60000 (67%)]\tLoss: -20595.064453\n",
      "====> Epoch: 4 Average loss: -13530.2848\n",
      "====> Test set loss: -20302.6645\n",
      "Train Epoch: 5 [0/60000 (0%)]\tLoss: -20530.935547\n",
      "====> Epoch: 5 Average loss: -1.3687\n",
      "Train Epoch: 5 [40000/60000 (67%)]\tLoss: -18972.847656\n",
      "====> Epoch: 5 Average loss: -13512.3008\n",
      "====> Test set loss: -20236.8212\n",
      "Train Epoch: 6 [0/60000 (0%)]\tLoss: -20583.339844\n",
      "====> Epoch: 6 Average loss: -1.3722\n",
      "Train Epoch: 6 [40000/60000 (67%)]\tLoss: -20337.681641\n",
      "====> Epoch: 6 Average loss: -13475.0766\n",
      "====> Test set loss: -20195.3952\n",
      "Train Epoch: 7 [0/60000 (0%)]\tLoss: -19471.582031\n",
      "====> Epoch: 7 Average loss: -1.2981\n",
      "Train Epoch: 7 [40000/60000 (67%)]\tLoss: -19745.539062\n",
      "====> Epoch: 7 Average loss: -13463.9324\n",
      "====> Test set loss: -20234.8682\n",
      "Train Epoch: 8 [0/60000 (0%)]\tLoss: -24921.386719\n",
      "====> Epoch: 8 Average loss: -1.6614\n",
      "Train Epoch: 8 [40000/60000 (67%)]\tLoss: -20268.078125\n",
      "====> Epoch: 8 Average loss: -13438.8631\n",
      "====> Test set loss: -20105.1499\n",
      "Train Epoch: 9 [0/60000 (0%)]\tLoss: -24177.308594\n",
      "====> Epoch: 9 Average loss: -1.6118\n",
      "Train Epoch: 9 [40000/60000 (67%)]\tLoss: -20490.861328\n",
      "====> Epoch: 9 Average loss: -13410.1998\n",
      "====> Test set loss: -20106.7350\n",
      "Train Epoch: 10 [0/60000 (0%)]\tLoss: -20089.080078\n",
      "====> Epoch: 10 Average loss: -1.3393\n",
      "Train Epoch: 10 [40000/60000 (67%)]\tLoss: -20366.525391\n",
      "====> Epoch: 10 Average loss: -13392.0271\n",
      "====> Test set loss: -20127.9675\n"
     ]
    }
   ],
   "source": [
    "for epoch in range(1, 10 + 1):\n",
    "    train(epoch)\n",
    "    test(epoch)\n",
    "    with torch.no_grad():\n",
    "        sample = torch.randn(64, 20).to(device)\n",
    "        sample = model.decode(sample).cpu()\n",
    "        save_image(sample.view(64, 1,28, 28), './results_VAE/sample_' + str(epoch) + '.png')"
   ]
  },
  {
   "cell_type": "code",
   "execution_count": null,
   "metadata": {},
   "outputs": [],
   "source": [
    "def imshow(img):\n",
    "    img = img / 2 + 0.5\n",
    "    npimg = img.numpy()\n",
    "    plt.imshow(np.transpose(npimg, (1, 2, 0)))\n",
    "    plt.show()"
   ]
  },
  {
   "cell_type": "code",
   "execution_count": null,
   "metadata": {},
   "outputs": [],
   "source": []
  }
 ],
 "metadata": {
  "kernelspec": {
   "display_name": "Python 3",
   "language": "python",
   "name": "python3"
  },
  "language_info": {
   "codemirror_mode": {
    "name": "ipython",
    "version": 3
   },
   "file_extension": ".py",
   "mimetype": "text/x-python",
   "name": "python",
   "nbconvert_exporter": "python",
   "pygments_lexer": "ipython3",
   "version": "3.7.6"
  }
 },
 "nbformat": 4,
 "nbformat_minor": 4
}
